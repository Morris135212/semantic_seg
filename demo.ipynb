{
 "cells": [
  {
   "cell_type": "code",
   "execution_count": 1,
   "id": "ee91425e",
   "metadata": {},
   "outputs": [
    {
     "name": "stderr",
     "output_type": "stream",
     "text": [
      "/Users/maochenhui/miniforge3/envs/DL/lib/python3.8/site-packages/torchvision/io/image.py:11: UserWarning: Failed to load image Python extension: \n",
      "  warn(f\"Failed to load image Python extension: {e}\")\n"
     ]
    }
   ],
   "source": [
    "import numpy as np\n",
    "import pandas as pd\n",
    "from PIL import Image\n",
    "import transforms\n",
    "import data\n",
    "from model.unet import U_Net\n",
    "import matplotlib.pyplot as plt\n",
    "import torch\n",
    "from torchsummary import summary\n",
    "import glob\n",
    "from sklearn.model_selection import train_test_split"
   ]
  },
  {
   "cell_type": "code",
   "execution_count": 2,
   "id": "027b919c",
   "metadata": {},
   "outputs": [
    {
     "name": "stdout",
     "output_type": "stream",
     "text": [
      "----------------------------------------------------------------\n",
      "        Layer (type)               Output Shape         Param #\n",
      "================================================================\n",
      "            Conv2d-1         [-1, 64, 224, 224]           1,792\n",
      "       BatchNorm2d-2         [-1, 64, 224, 224]             128\n",
      "              ReLU-3         [-1, 64, 224, 224]               0\n",
      "            Conv2d-4         [-1, 64, 224, 224]          36,928\n",
      "       BatchNorm2d-5         [-1, 64, 224, 224]             128\n",
      "              ReLU-6         [-1, 64, 224, 224]               0\n",
      "        conv_block-7         [-1, 64, 224, 224]               0\n",
      "         MaxPool2d-8         [-1, 64, 112, 112]               0\n",
      "            Conv2d-9        [-1, 128, 112, 112]          73,856\n",
      "      BatchNorm2d-10        [-1, 128, 112, 112]             256\n",
      "             ReLU-11        [-1, 128, 112, 112]               0\n",
      "           Conv2d-12        [-1, 128, 112, 112]         147,584\n",
      "      BatchNorm2d-13        [-1, 128, 112, 112]             256\n",
      "             ReLU-14        [-1, 128, 112, 112]               0\n",
      "       conv_block-15        [-1, 128, 112, 112]               0\n",
      "        MaxPool2d-16          [-1, 128, 56, 56]               0\n",
      "           Conv2d-17          [-1, 256, 56, 56]         295,168\n",
      "      BatchNorm2d-18          [-1, 256, 56, 56]             512\n",
      "             ReLU-19          [-1, 256, 56, 56]               0\n",
      "           Conv2d-20          [-1, 256, 56, 56]         590,080\n",
      "      BatchNorm2d-21          [-1, 256, 56, 56]             512\n",
      "             ReLU-22          [-1, 256, 56, 56]               0\n",
      "       conv_block-23          [-1, 256, 56, 56]               0\n",
      "        MaxPool2d-24          [-1, 256, 28, 28]               0\n",
      "           Conv2d-25          [-1, 512, 28, 28]       1,180,160\n",
      "      BatchNorm2d-26          [-1, 512, 28, 28]           1,024\n",
      "             ReLU-27          [-1, 512, 28, 28]               0\n",
      "           Conv2d-28          [-1, 512, 28, 28]       2,359,808\n",
      "      BatchNorm2d-29          [-1, 512, 28, 28]           1,024\n",
      "             ReLU-30          [-1, 512, 28, 28]               0\n",
      "       conv_block-31          [-1, 512, 28, 28]               0\n",
      "        MaxPool2d-32          [-1, 512, 14, 14]               0\n",
      "           Conv2d-33         [-1, 1024, 14, 14]       4,719,616\n",
      "      BatchNorm2d-34         [-1, 1024, 14, 14]           2,048\n",
      "             ReLU-35         [-1, 1024, 14, 14]               0\n",
      "           Conv2d-36         [-1, 1024, 14, 14]       9,438,208\n",
      "      BatchNorm2d-37         [-1, 1024, 14, 14]           2,048\n",
      "             ReLU-38         [-1, 1024, 14, 14]               0\n",
      "       conv_block-39         [-1, 1024, 14, 14]               0\n",
      "         Upsample-40         [-1, 1024, 28, 28]               0\n",
      "           Conv2d-41          [-1, 512, 28, 28]       4,719,104\n",
      "      BatchNorm2d-42          [-1, 512, 28, 28]           1,024\n",
      "             ReLU-43          [-1, 512, 28, 28]               0\n",
      "          up_conv-44          [-1, 512, 28, 28]               0\n",
      "           Conv2d-45          [-1, 512, 28, 28]       4,719,104\n",
      "      BatchNorm2d-46          [-1, 512, 28, 28]           1,024\n",
      "             ReLU-47          [-1, 512, 28, 28]               0\n",
      "           Conv2d-48          [-1, 512, 28, 28]       2,359,808\n",
      "      BatchNorm2d-49          [-1, 512, 28, 28]           1,024\n",
      "             ReLU-50          [-1, 512, 28, 28]               0\n",
      "       conv_block-51          [-1, 512, 28, 28]               0\n",
      "         Upsample-52          [-1, 512, 56, 56]               0\n",
      "           Conv2d-53          [-1, 256, 56, 56]       1,179,904\n",
      "      BatchNorm2d-54          [-1, 256, 56, 56]             512\n",
      "             ReLU-55          [-1, 256, 56, 56]               0\n",
      "          up_conv-56          [-1, 256, 56, 56]               0\n",
      "           Conv2d-57          [-1, 256, 56, 56]       1,179,904\n",
      "      BatchNorm2d-58          [-1, 256, 56, 56]             512\n",
      "             ReLU-59          [-1, 256, 56, 56]               0\n",
      "           Conv2d-60          [-1, 256, 56, 56]         590,080\n",
      "      BatchNorm2d-61          [-1, 256, 56, 56]             512\n",
      "             ReLU-62          [-1, 256, 56, 56]               0\n",
      "       conv_block-63          [-1, 256, 56, 56]               0\n",
      "         Upsample-64        [-1, 256, 112, 112]               0\n",
      "           Conv2d-65        [-1, 128, 112, 112]         295,040\n",
      "      BatchNorm2d-66        [-1, 128, 112, 112]             256\n",
      "             ReLU-67        [-1, 128, 112, 112]               0\n",
      "          up_conv-68        [-1, 128, 112, 112]               0\n",
      "           Conv2d-69        [-1, 128, 112, 112]         295,040\n",
      "      BatchNorm2d-70        [-1, 128, 112, 112]             256\n",
      "             ReLU-71        [-1, 128, 112, 112]               0\n",
      "           Conv2d-72        [-1, 128, 112, 112]         147,584\n",
      "      BatchNorm2d-73        [-1, 128, 112, 112]             256\n",
      "             ReLU-74        [-1, 128, 112, 112]               0\n",
      "       conv_block-75        [-1, 128, 112, 112]               0\n",
      "         Upsample-76        [-1, 128, 224, 224]               0\n",
      "           Conv2d-77         [-1, 64, 224, 224]          73,792\n",
      "      BatchNorm2d-78         [-1, 64, 224, 224]             128\n",
      "             ReLU-79         [-1, 64, 224, 224]               0\n",
      "          up_conv-80         [-1, 64, 224, 224]               0\n",
      "           Conv2d-81         [-1, 64, 224, 224]          73,792\n",
      "      BatchNorm2d-82         [-1, 64, 224, 224]             128\n",
      "             ReLU-83         [-1, 64, 224, 224]               0\n",
      "           Conv2d-84         [-1, 64, 224, 224]          36,928\n",
      "      BatchNorm2d-85         [-1, 64, 224, 224]             128\n",
      "             ReLU-86         [-1, 64, 224, 224]               0\n",
      "       conv_block-87         [-1, 64, 224, 224]               0\n",
      "           Conv2d-88          [-1, 1, 224, 224]              65\n",
      "================================================================\n",
      "Total params: 34,527,041\n",
      "Trainable params: 34,527,041\n",
      "Non-trainable params: 0\n",
      "----------------------------------------------------------------\n",
      "Input size (MB): 0.57\n",
      "Forward/backward pass size (MB): 941.34\n",
      "Params size (MB): 131.71\n",
      "Estimated Total Size (MB): 1073.62\n",
      "----------------------------------------------------------------\n"
     ]
    }
   ],
   "source": [
    "model = U_Net()\n",
    "device = torch.device(\"cuda\" if torch.cuda.is_available() else \"cpu\")\n",
    "model.to(device)\n",
    "summary(model, (3, 224, 224))"
   ]
  },
  {
   "cell_type": "code",
   "execution_count": 3,
   "id": "907c1491",
   "metadata": {},
   "outputs": [],
   "source": [
    "SCANS_DIR = \"input/scans/scans/\"\n",
    "TRUTH_DIR = \"input/ground-truth-pixel/ground-truth-pixel/\"\n",
    "scan_files = glob.glob(SCANS_DIR+'*.png')\n",
    "scan_files = sorted(scan_files)\n",
    "scan_files = list(filter(lambda x:\"(\" not in x, scan_files))\n",
    "scan_files_dev = scan_files[:400]\n",
    "\n",
    "scan_files_test = scan_files[400:]\n",
    "truth_files = glob.glob(TRUTH_DIR+'*.png')\n",
    "truth_files = sorted(truth_files)\n",
    "truth_files = list(filter(lambda x:\"(\" not in x, truth_files))\n",
    "\n",
    "scan_files_train, scan_files_val, truth_files_train, truth_files_val = train_test_split(scan_files_dev, truth_files, test_size=0.3)"
   ]
  },
  {
   "cell_type": "code",
   "execution_count": 4,
   "id": "efece3ff",
   "metadata": {},
   "outputs": [],
   "source": [
    "from torch.utils.data import DataLoader\n",
    "train_data = data.CustomDataset(scans = scan_files_train, ground_truth=truth_files_train, transforms=transforms.default_transform[\"train\"])\n",
    "train_loader = DataLoader(train_data, batch_size=32, shuffle=True)\n",
    "\n",
    "val_data = data.CustomDataset(scans=scan_files_val, ground_truth=truth_files_val, transforms=transforms.default_transform[\"val\"])\n",
    "val_loader = DataLoader(val_data, batch_size=32)"
   ]
  },
  {
   "cell_type": "code",
   "execution_count": 5,
   "id": "9c96dbb5",
   "metadata": {},
   "outputs": [],
   "source": [
    "from train import Trainer\n",
    "train = (scan_files_train, truth_files_train)\n",
    "val = (scan_files_val, truth_files_val)\n",
    "trainer = Trainer(train, val, model)"
   ]
  },
  {
   "cell_type": "code",
   "execution_count": null,
   "id": "f6786b49",
   "metadata": {},
   "outputs": [
    {
     "name": "stdout",
     "output_type": "stream",
     "text": [
      "Start Training\n",
      "At epoch: 0\n"
     ]
    },
    {
     "name": "stderr",
     "output_type": "stream",
     "text": [
      " 11%|████▉                                       | 1/9 [01:43<13:44, 103.05s/it]"
     ]
    },
    {
     "name": "stdout",
     "output_type": "stream",
     "text": [
      "train loss: 3.485365629196167\n",
      "Validation loss decreased (inf --> 3.485366).  Saving model ...\n"
     ]
    },
    {
     "name": "stderr",
     "output_type": "stream",
     "text": [
      "\r",
      " 22%|█████████▊                                  | 2/9 [03:28<12:10, 104.31s/it]"
     ]
    },
    {
     "name": "stdout",
     "output_type": "stream",
     "text": [
      "train loss: 3.2616878747940063\n",
      "Validation loss decreased (3.485366 --> 3.261688).  Saving model ...\n"
     ]
    }
   ],
   "source": [
    "trainer()"
   ]
  },
  {
   "cell_type": "code",
   "execution_count": null,
   "id": "bace7af3",
   "metadata": {},
   "outputs": [],
   "source": []
  }
 ],
 "metadata": {
  "kernelspec": {
   "display_name": "Python 3 (ipykernel)",
   "language": "python",
   "name": "python3"
  },
  "language_info": {
   "codemirror_mode": {
    "name": "ipython",
    "version": 3
   },
   "file_extension": ".py",
   "mimetype": "text/x-python",
   "name": "python",
   "nbconvert_exporter": "python",
   "pygments_lexer": "ipython3",
   "version": "3.8.11"
  }
 },
 "nbformat": 4,
 "nbformat_minor": 5
}
