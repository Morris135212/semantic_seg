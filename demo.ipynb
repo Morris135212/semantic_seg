{
 "cells": [
  {
   "cell_type": "code",
   "execution_count": 1,
   "id": "ee91425e",
   "metadata": {},
   "outputs": [
    {
     "name": "stderr",
     "output_type": "stream",
     "text": [
      "/Users/maochenhui/miniforge3/envs/DL/lib/python3.8/site-packages/torchvision/io/image.py:11: UserWarning: Failed to load image Python extension: \n",
      "  warn(f\"Failed to load image Python extension: {e}\")\n"
     ]
    }
   ],
   "source": [
    "import numpy as np\n",
    "import pandas as pd\n",
    "from PIL import Image\n",
    "import transforms\n",
    "import data\n",
    "from model.unet import U_Net\n",
    "from model.simple_unet import Simple_Unet\n",
    "import matplotlib.pyplot as plt\n",
    "import torch\n",
    "from torchsummary import summary\n",
    "import glob\n",
    "from sklearn.model_selection import train_test_split"
   ]
  },
  {
   "cell_type": "code",
   "execution_count": 2,
   "id": "d5031ffb",
   "metadata": {},
   "outputs": [
    {
     "name": "stdout",
     "output_type": "stream",
     "text": [
      "----------------------------------------------------------------\n",
      "        Layer (type)               Output Shape         Param #\n",
      "================================================================\n",
      "            Conv2d-1         [-1, 9, 1152, 832]             252\n",
      "       BatchNorm2d-2         [-1, 9, 1152, 832]              18\n",
      "              ReLU-3         [-1, 9, 1152, 832]               0\n",
      "            Conv2d-4         [-1, 9, 1152, 832]             738\n",
      "       BatchNorm2d-5         [-1, 9, 1152, 832]              18\n",
      "              ReLU-6         [-1, 9, 1152, 832]               0\n",
      "        conv_block-7         [-1, 9, 1152, 832]               0\n",
      "            Conv2d-8         [-1, 12, 576, 416]             984\n",
      "       BatchNorm2d-9         [-1, 12, 576, 416]              24\n",
      "             ReLU-10         [-1, 12, 576, 416]               0\n",
      "           Conv2d-11         [-1, 12, 576, 416]           1,308\n",
      "      BatchNorm2d-12         [-1, 12, 576, 416]              24\n",
      "             ReLU-13         [-1, 12, 576, 416]               0\n",
      "       conv_block-14         [-1, 12, 576, 416]               0\n",
      "           Conv2d-15         [-1, 12, 288, 208]           1,308\n",
      "      BatchNorm2d-16         [-1, 12, 288, 208]              24\n",
      "             ReLU-17         [-1, 12, 288, 208]               0\n",
      "           Conv2d-18         [-1, 12, 288, 208]           1,308\n",
      "      BatchNorm2d-19         [-1, 12, 288, 208]              24\n",
      "             ReLU-20         [-1, 12, 288, 208]               0\n",
      "       conv_block-21         [-1, 12, 288, 208]               0\n",
      "         Upsample-22         [-1, 12, 576, 416]               0\n",
      "  ConvTranspose2d-23          [-1, 9, 576, 416]           1,953\n",
      "      BatchNorm2d-24          [-1, 9, 576, 416]              18\n",
      "             ReLU-25          [-1, 9, 576, 416]               0\n",
      "     conv_T_block-26          [-1, 9, 576, 416]               0\n",
      "         Upsample-27         [-1, 9, 1152, 832]               0\n",
      "  ConvTranspose2d-28        [-1, 12, 1152, 832]           1,956\n",
      "      BatchNorm2d-29        [-1, 12, 1152, 832]              24\n",
      "             ReLU-30        [-1, 12, 1152, 832]               0\n",
      "     conv_T_block-31        [-1, 12, 1152, 832]               0\n",
      "         Upsample-32       [-1, 12, 2304, 1664]               0\n",
      "  ConvTranspose2d-33        [-1, 1, 2304, 1664]             136\n",
      "================================================================\n",
      "Total params: 10,117\n",
      "Trainable params: 10,117\n",
      "Non-trainable params: 0\n",
      "----------------------------------------------------------------\n",
      "Input size (MB): 42.99\n",
      "Forward/backward pass size (MB): 1537.45\n",
      "Params size (MB): 0.04\n",
      "Estimated Total Size (MB): 1580.49\n",
      "----------------------------------------------------------------\n"
     ]
    }
   ],
   "source": [
    "# model = U_Net()\n",
    "model = Simple_Unet()\n",
    "device = torch.device(\"cuda\" if torch.cuda.is_available() else \"cpu\")\n",
    "model.to(device)\n",
    "summary(model, (3, 2302, 1632))"
   ]
  },
  {
   "cell_type": "code",
   "execution_count": 5,
   "id": "907c1491",
   "metadata": {},
   "outputs": [],
   "source": [
    "SCANS_DIR = \"input/scans/scans/\"\n",
    "TRUTH_DIR = \"input/ground-truth-pixel/ground-truth-pixel/\"\n",
    "scan_files = glob.glob(SCANS_DIR+'*.png')\n",
    "scan_files = sorted(scan_files)\n",
    "# scan_files = list(filter(lambda x:\"(\" not in x, scan_files))\n",
    "scan_files_dev = scan_files[:400]\n",
    "\n",
    "scan_files_test = scan_files[400:]\n",
    "truth_files = glob.glob(TRUTH_DIR+'*.png')\n",
    "truth_files = sorted(truth_files)\n",
    "# truth_files = list(filter(lambda x:\"(\" not in x, truth_files))\n",
    "\n",
    "scan_files_train, scan_files_val, truth_files_train, truth_files_val = train_test_split(scan_files_dev, truth_files, test_size=0.3)"
   ]
  },
  {
   "cell_type": "code",
   "execution_count": 6,
   "id": "efece3ff",
   "metadata": {},
   "outputs": [],
   "source": [
    "from torch.utils.data import DataLoader\n",
    "train_data = data.CustomDataset(scans = scan_files_train, ground_truth=truth_files_train, transforms=transforms.default_transform[\"train\"])\n",
    "train_loader = DataLoader(train_data, batch_size=1, shuffle=True)\n",
    "\n",
    "val_data = data.CustomDataset(scans=scan_files_val, ground_truth=truth_files_val, transforms=transforms.default_transform[\"val\"])\n",
    "val_loader = DataLoader(val_data, batch_size=1)\n",
    "\n",
    "test_data = data.TestDataset(scans=scan_files_val)\n",
    "test_loader = DataLoader(test_data, batch_size=1)"
   ]
  },
  {
   "cell_type": "code",
   "execution_count": 8,
   "id": "67381426",
   "metadata": {
    "scrolled": true
   },
   "outputs": [
    {
     "data": {
      "text/plain": [
       "torch.Size([1, 3756864])"
      ]
     },
     "execution_count": 8,
     "metadata": {},
     "output_type": "execute_result"
    }
   ],
   "source": [
    "demo = next(iter(train_loader))\n",
    "out = model(demo[0].float())\n",
    "out = out.reshape(out.shape[0], -1)\n",
    "out.shape"
   ]
  },
  {
   "cell_type": "code",
   "execution_count": 9,
   "id": "cb4f5faf",
   "metadata": {},
   "outputs": [
    {
     "data": {
      "text/plain": [
       "<matplotlib.image.AxesImage at 0x1695b7f10>"
      ]
     },
     "execution_count": 9,
     "metadata": {},
     "output_type": "execute_result"
    },
    {
     "data": {
      "image/png": "[encoded data removed]",
      "text/plain": [
       "<Figure size 864x720 with 1 Axes>"
      ]
     },
     "metadata": {
      "needs_background": "light"
     },
     "output_type": "display_data"
    }
   ],
   "source": [
    "plt.figure(figsize=(12,10))\n",
    "y = demo[2].reshape((2302, 1632)).detach().cpu()\n",
    "plt.imshow(y)"
   ]
  },
  {
   "cell_type": "code",
   "execution_count": 7,
   "id": "69c92747",
   "metadata": {},
   "outputs": [
    {
     "name": "stdout",
     "output_type": "stream",
     "text": [
      "Initialize conv\n",
      "Initialize Bathch\n",
      "Initialize conv\n",
      "Initialize Bathch\n",
      "Initialize conv\n",
      "Initialize Bathch\n",
      "Initialize conv\n",
      "Initialize Bathch\n",
      "Initialize conv\n",
      "Initialize Bathch\n",
      "Initialize conv\n"
     ]
    }
   ],
   "source": [
    "from train import Trainer\n",
    "\n",
    "train = (scan_files_train, truth_files_train)\n",
    "val = (scan_files_val, truth_files_val)\n",
    "trainer = Trainer(train, val, model, batch_size=1, epochs=100, lr=1e-2, step_size=100)"
   ]
  },
  {
   "cell_type": "code",
   "execution_count": null,
   "id": "1f01e6b1",
   "metadata": {},
   "outputs": [],
   "source": [
    "trainer()"
   ]
  },
  {
   "cell_type": "code",
   "execution_count": null,
   "id": "1f857122",
   "metadata": {},
   "outputs": [],
   "source": [
    "demo = next(iter(train_loader))\n",
    "x = demo[0].float().to(device)\n",
    "output = model(x)"
   ]
  },
  {
   "cell_type": "code",
   "execution_count": null,
   "id": "ec460a80",
   "metadata": {},
   "outputs": [],
   "source": [
    "o = output[0].permute(1,2,0).squeeze().cpu().detach().numpy()\n",
    "o = np.round(o)\n",
    "fig = plt.figure(figsize=(20,20))\n",
    "ax1 = fig.add_subplot(1,2,1)\n",
    "ax1.imshow(o)\n",
    "\n",
    "y = demo[1][0].reshape(2302,1632).cpu().detach().numpy()\n",
    "ax2 = fig.add_subplot(1,2,2)\n",
    "ax2.imshow(y)"
   ]
  },
  {
   "cell_type": "markdown",
   "id": "02db5b55",
   "metadata": {},
   "source": [
    "### Evaluation on Test set"
   ]
  },
  {
   "cell_type": "code",
   "execution_count": null,
   "id": "e76daf5a",
   "metadata": {},
   "outputs": [],
   "source": [
    "from imageio import imread\n",
    "from tqdm import tqdm\n",
    "from torch.autograd import Variable"
   ]
  },
  {
   "cell_type": "code",
   "execution_count": null,
   "id": "59bed4cc",
   "metadata": {},
   "outputs": [],
   "source": [
    "steps=len(scan_files_test)\n",
    "rows = 1\n",
    "plt.figure(figsize=(steps*10, 10))\n",
    "\n",
    "for i in range(steps):\n",
    "    plt.subplot(1,steps,i+1)\n",
    "    plt.imshow(imread(scan_files_test[i]))"
   ]
  },
  {
   "cell_type": "code",
   "execution_count": null,
   "id": "6a3876aa",
   "metadata": {},
   "outputs": [],
   "source": [
    "steps=len(scan_files_test)\n",
    "plt.figure(figsize=(steps*10, 10))\n",
    "predicted = []\n",
    "for i, img in enumerate(tqdm(test_loader), 0):\n",
    "    img = Variable(img.float()).to(device)\n",
    "    output = model(img)\n",
    "    output = output[0].permute(1,2,0).squeeze().cpu().detach().numpy()\n",
    "    output = np.round(output)\n",
    "    predicted.append(output)\n",
    "    plt.subplot(1, steps, i+1)\n",
    "    plt.imshow(output)"
   ]
  }
 ],
 "metadata": {
  "kernelspec": {
   "display_name": "Python 3 (ipykernel)",
   "language": "python",
   "name": "python3"
  },
  "language_info": {
   "codemirror_mode": {
    "name": "ipython",
    "version": 3
   },
   "file_extension": ".py",
   "mimetype": "text/x-python",
   "name": "python",
   "nbconvert_exporter": "python",
   "pygments_lexer": "ipython3",
   "version": "3.8.11"
  }
 },
 "nbformat": 4,
 "nbformat_minor": 5
}
