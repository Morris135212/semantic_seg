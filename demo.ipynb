{
 "cells": [
  {
   "cell_type": "code",
   "execution_count": 1,
   "id": "ee91425e",
   "metadata": {},
   "outputs": [
    {
     "name": "stderr",
     "output_type": "stream",
     "text": [
      "/Users/maochenhui/miniforge3/envs/DL/lib/python3.8/site-packages/torchvision/io/image.py:11: UserWarning: Failed to load image Python extension: \n",
      "  warn(f\"Failed to load image Python extension: {e}\")\n"
     ]
    }
   ],
   "source": [
    "import numpy as np\n",
    "import pandas as pd\n",
    "from PIL import Image\n",
    "import transforms\n",
    "import data\n",
    "from model.unet import U_Net\n",
    "from model.simple_unet import Simple_Unet\n",
    "import matplotlib.pyplot as plt\n",
    "import torch\n",
    "from torchsummary import summary\n",
    "import glob\n",
    "from sklearn.model_selection import train_test_split"
   ]
  },
  {
   "cell_type": "code",
   "execution_count": 2,
   "id": "d5031ffb",
   "metadata": {},
   "outputs": [
    {
     "name": "stdout",
     "output_type": "stream",
     "text": [
      "----------------------------------------------------------------\n",
      "        Layer (type)               Output Shape         Param #\n",
      "================================================================\n",
      "            Conv2d-1         [-1, 9, 1152, 832]             252\n",
      "              ReLU-2         [-1, 9, 1152, 832]               0\n",
      "       BatchNorm2d-3         [-1, 9, 1152, 832]              18\n",
      "        conv_block-4         [-1, 9, 1152, 832]               0\n",
      "            Conv2d-5         [-1, 12, 576, 416]             984\n",
      "              ReLU-6         [-1, 12, 576, 416]               0\n",
      "       BatchNorm2d-7         [-1, 12, 576, 416]              24\n",
      "        conv_block-8         [-1, 12, 576, 416]               0\n",
      "            Conv2d-9         [-1, 12, 288, 208]           1,308\n",
      "             ReLU-10         [-1, 12, 288, 208]               0\n",
      "      BatchNorm2d-11         [-1, 12, 288, 208]              24\n",
      "       conv_block-12         [-1, 12, 288, 208]               0\n",
      "         Upsample-13         [-1, 12, 576, 416]               0\n",
      "  ConvTranspose2d-14          [-1, 9, 576, 416]           1,953\n",
      "             ReLU-15          [-1, 9, 576, 416]               0\n",
      "      BatchNorm2d-16          [-1, 9, 576, 416]              18\n",
      "     conv_T_block-17          [-1, 9, 576, 416]               0\n",
      "         Upsample-18         [-1, 9, 1152, 832]               0\n",
      "  ConvTranspose2d-19        [-1, 12, 1152, 832]           1,956\n",
      "             ReLU-20        [-1, 12, 1152, 832]               0\n",
      "      BatchNorm2d-21        [-1, 12, 1152, 832]              24\n",
      "     conv_T_block-22        [-1, 12, 1152, 832]               0\n",
      "         Upsample-23       [-1, 12, 2304, 1664]               0\n",
      "  ConvTranspose2d-24        [-1, 1, 2304, 1664]             136\n",
      "             ReLU-25        [-1, 1, 2304, 1664]               0\n",
      "      BatchNorm2d-26        [-1, 1, 2304, 1664]               2\n",
      "     conv_T_block-27        [-1, 1, 2304, 1664]               0\n",
      "================================================================\n",
      "Total params: 6,699\n",
      "Trainable params: 6,699\n",
      "Non-trainable params: 0\n",
      "----------------------------------------------------------------\n",
      "Input size (MB): 42.99\n",
      "Forward/backward pass size (MB): 1345.50\n",
      "Params size (MB): 0.03\n",
      "Estimated Total Size (MB): 1388.52\n",
      "----------------------------------------------------------------\n"
     ]
    }
   ],
   "source": [
    "model = Simple_Unet()\n",
    "device = torch.device(\"cuda\" if torch.cuda.is_available() else \"cpu\")\n",
    "model.to(device)\n",
    "summary(model, (3, 2302, 1632))"
   ]
  },
  {
   "cell_type": "code",
   "execution_count": 3,
   "id": "907c1491",
   "metadata": {},
   "outputs": [],
   "source": [
    "SCANS_DIR = \"input/scans/scans/\"\n",
    "TRUTH_DIR = \"input/ground-truth-pixel/ground-truth-pixel/\"\n",
    "scan_files = glob.glob(SCANS_DIR+'*.png')\n",
    "scan_files = sorted(scan_files)\n",
    "# scan_files = list(filter(lambda x:\"(\" not in x, scan_files))\n",
    "scan_files_dev = scan_files[:400]\n",
    "\n",
    "scan_files_test = scan_files[400:]\n",
    "truth_files = glob.glob(TRUTH_DIR+'*.png')\n",
    "truth_files = sorted(truth_files)\n",
    "# truth_files = list(filter(lambda x:\"(\" not in x, truth_files))\n",
    "\n",
    "scan_files_train, scan_files_val, truth_files_train, truth_files_val = train_test_split(scan_files_dev, truth_files, test_size=0.3)"
   ]
  },
  {
   "cell_type": "code",
   "execution_count": 4,
   "id": "efece3ff",
   "metadata": {},
   "outputs": [],
   "source": [
    "from torch.utils.data import DataLoader\n",
    "train_data = data.CustomDataset(scans = scan_files_train, ground_truth=truth_files_train, transforms=transforms.default_transform[\"train\"])\n",
    "train_loader = DataLoader(train_data, batch_size=1, shuffle=True)\n",
    "\n",
    "val_data = data.CustomDataset(scans=scan_files_val, ground_truth=truth_files_val, transforms=transforms.default_transform[\"val\"])\n",
    "val_loader = DataLoader(val_data, batch_size=1)"
   ]
  },
  {
   "cell_type": "code",
   "execution_count": 6,
   "id": "69c92747",
   "metadata": {},
   "outputs": [],
   "source": [
    "from train import Trainer\n",
    "\n",
    "train = (scan_files_train, truth_files_train)\n",
    "val = (scan_files_val, truth_files_val)\n",
    "trainer = Trainer(train, val, model, batch_size=1, epochs=100, lr=1e-2, step_size=100)"
   ]
  },
  {
   "cell_type": "code",
   "execution_count": 10,
   "id": "8bb5b6d9",
   "metadata": {},
   "outputs": [
    {
     "name": "stdout",
     "output_type": "stream",
     "text": [
      "99\r"
     ]
    }
   ],
   "source": [
    "import sys\n",
    "import time\n",
    "\n",
    "msg = ''\n",
    "for i in range(100):\n",
    "    msg += msg.join('.')\n",
    "    a = \"耐心等待\" + '{}'.format(msg)\n",
    "    if i % 10 == 0:     # 到第几次重头开始\n",
    "        msg = ''\n",
    "    print(\"%d\\r\" % i, end='', flush=True)\n",
    "    time.sleep(0.1)"
   ]
  },
  {
   "cell_type": "code",
   "execution_count": null,
   "id": "67381426",
   "metadata": {},
   "outputs": [],
   "source": []
  }
 ],
 "metadata": {
  "kernelspec": {
   "display_name": "Python 3 (ipykernel)",
   "language": "python",
   "name": "python3"
  },
  "language_info": {
   "codemirror_mode": {
    "name": "ipython",
    "version": 3
   },
   "file_extension": ".py",
   "mimetype": "text/x-python",
   "name": "python",
   "nbconvert_exporter": "python",
   "pygments_lexer": "ipython3",
   "version": "3.8.11"
  }
 },
 "nbformat": 4,
 "nbformat_minor": 5
}
